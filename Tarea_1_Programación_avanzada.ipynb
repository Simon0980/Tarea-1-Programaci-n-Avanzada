{
  "nbformat": 4,
  "nbformat_minor": 0,
  "metadata": {
    "colab": {
      "provenance": []
    },
    "kernelspec": {
      "name": "python3",
      "display_name": "Python 3"
    },
    "language_info": {
      "name": "python"
    }
  },
  "cells": [
    {
      "cell_type": "markdown",
      "source": [
        "# 3 Caminos de una PCB"
      ],
      "metadata": {
        "id": "LQApLbN0jut8"
      }
    },
    {
      "cell_type": "markdown",
      "source": [
        "Solución que recorre todas las posibilidades, sin devolverse en filas o columnas"
      ],
      "metadata": {
        "id": "Rfc4PTS6qxgu"
      }
    },
    {
      "cell_type": "code",
      "execution_count": null,
      "metadata": {
        "id": "Ioz6cdt2w-wN",
        "colab": {
          "base_uri": "https://localhost:8080/"
        },
        "outputId": "770193e6-5e9a-4c45-83a1-e0fd6977357a"
      },
      "outputs": [
        {
          "output_type": "execute_result",
          "data": {
            "text/plain": [
              "3"
            ]
          },
          "metadata": {},
          "execution_count": 1
        }
      ],
      "source": [
        "import numpy as np\n",
        "\n",
        "\n",
        "class PCB:\n",
        "    def __init__(self, N, M):\n",
        "        self.N = N\n",
        "        self.M = M\n",
        "\n",
        "    def contar(self):\n",
        "        celdas = [(self.N - 1, 0)]\n",
        "        count = 0\n",
        "\n",
        "        while len(celdas) > 0:\n",
        "            x, y = celdas.pop()\n",
        "            if x == 0 and y == self.M - 1:\n",
        "                count += 1\n",
        "                continue\n",
        "\n",
        "            if y + 1 < self.M:\n",
        "                celdas.append((x, y + 1))\n",
        "\n",
        "            if x - 1 >= 0:\n",
        "                celdas.append((x - 1, y))\n",
        "\n",
        "        return count\n",
        "\n",
        "prueba = PCB(3,2)\n",
        "prueba.contar()"
      ]
    },
    {
      "cell_type": "markdown",
      "source": [
        "Solución recursiva"
      ],
      "metadata": {
        "id": "jE8OQaUEq4mA"
      }
    },
    {
      "cell_type": "code",
      "source": [
        "class PCB:\n",
        "    def __init__(self, N, M):\n",
        "        self.N = N\n",
        "        self.M = M\n",
        "\n",
        "    def contarRecursivo(self, x=None, y=None):\n",
        "\n",
        "      if x is None or y is None:\n",
        "          x, y = self.N - 1, self.M - 1\n",
        "\n",
        "      if x == 0 or y == 0:\n",
        "          return 1\n",
        "\n",
        "      caminos_desde_arriba = self.contarRecursivo(x - 1, y)\n",
        "      caminos_desde_izquierda = self.contarRecursivo(x, y - 1)\n",
        "\n",
        "      return caminos_desde_arriba + caminos_desde_izquierda\n",
        "\n",
        "prueba = PCB(3, 3)\n",
        "print(prueba.contarRecursivo())\n",
        "\n",
        "#Si juntamo slas dos\n",
        "\n",
        "class PCB:\n",
        "    def __init__(self, N, M):\n",
        "        self.N = N\n",
        "        self.M = M\n",
        "    def contar(self):\n",
        "          celdas = [(self.N - 1, 0)]\n",
        "          count = 0\n",
        "\n",
        "          while len(celdas) > 0:\n",
        "              x, y = celdas.pop()\n",
        "              if x == 0 and y == self.M - 1:\n",
        "                  count += 1\n",
        "                  continue\n",
        "\n",
        "              if y + 1 < self.M:\n",
        "                  celdas.append((x, y + 1))\n",
        "\n",
        "              if x - 1 >= 0:\n",
        "                  celdas.append((x - 1, y))\n",
        "\n",
        "          return count\n",
        "\n",
        "    def contarRecursivo(self, x=None, y=None):\n",
        "\n",
        "      if x is None or y is None:\n",
        "          x, y = self.N - 1, self.M - 1\n",
        "\n",
        "      if x == 0 or y == 0:\n",
        "          return 1\n",
        "\n",
        "      caminos_desde_arriba = self.contarRecursivo(x - 1, y)\n",
        "      caminos_desde_izquierda = self.contarRecursivo(x, y - 1)\n",
        "\n",
        "      return caminos_desde_arriba + caminos_desde_izquierda\n",
        "\n",
        "prueba = PCB(3, 3)\n",
        "print(prueba.contarRecursivo())"
      ],
      "metadata": {
        "colab": {
          "base_uri": "https://localhost:8080/"
        },
        "id": "trYFvyTQkrhV",
        "outputId": "58cbd9b4-9e8b-4101-999a-82858591c33a"
      },
      "execution_count": null,
      "outputs": [
        {
          "output_type": "stream",
          "name": "stdout",
          "text": [
            "6\n",
            "6\n"
          ]
        }
      ]
    },
    {
      "cell_type": "markdown",
      "source": [
        "Calculo del tiempo\n"
      ],
      "metadata": {
        "id": "BNxkNYPYWyDN"
      }
    },
    {
      "cell_type": "code",
      "source": [
        "import time\n",
        "\n",
        "def mide_tiempo(funcion):\n",
        "    def funcion_medida(*args, **kwargs):\n",
        "        inicio = time.time()\n",
        "        resultado = funcion(*args, **kwargs)\n",
        "        fin = time.time()\n",
        "        print(f\"Tiempo de ejecución de {funcion.__name__}: {fin - inicio:.6f} segundos\")\n",
        "        return resultado\n",
        "    return funcion_medida\n",
        "\n",
        "class PCB:\n",
        "    @mide_tiempo\n",
        "    def __init__(self, N, M):\n",
        "        self.N = N\n",
        "        self.M = M\n",
        "\n",
        "    @mide_tiempo\n",
        "    def contar(self):\n",
        "        celdas = [(self.N - 1, 0)]\n",
        "        count = 0\n",
        "\n",
        "        while len(celdas) > 0:\n",
        "            x, y = celdas.pop()\n",
        "            if x == 0 and y == self.M - 1:\n",
        "                count += 1\n",
        "                continue\n",
        "\n",
        "            if y + 1 < self.M:\n",
        "                celdas.append((x, y + 1))\n",
        "\n",
        "            if x - 1 >= 0:\n",
        "                celdas.append((x - 1, y))\n",
        "\n",
        "        return count\n",
        "\n",
        "#Ahora tocó dividir la función contar recursivo en dos\n",
        "    @mide_tiempo\n",
        "    def contarRecursivo(self):\n",
        "        return self._contarRecursivo(self.N - 1, self.M - 1)\n",
        "\n",
        "    def _contarRecursivo(self, x, y):\n",
        "        if x == 0 or y == 0:\n",
        "            return 1\n",
        "\n",
        "        caminos_desde_arriba = self._contarRecursivo(x - 1, y)\n",
        "        caminos_desde_izquierda = self._contarRecursivo(x, y - 1)\n",
        "\n",
        "        return caminos_desde_arriba + caminos_desde_izquierda\n",
        "\n",
        "prueba = PCB(3, 3)\n",
        "print(\"Resultado iterativo:\", prueba.contar())\n",
        "print(\"Resultadorecursivo:\", prueba.contarRecursivo())\n"
      ],
      "metadata": {
        "colab": {
          "base_uri": "https://localhost:8080/"
        },
        "id": "-dwB2OEDaB19",
        "outputId": "283b8016-5113-4a34-82b4-aba99470fd13"
      },
      "execution_count": null,
      "outputs": [
        {
          "output_type": "stream",
          "name": "stdout",
          "text": [
            "Tiempo de ejecución de __init__: 0.000004 segundos\n",
            "Tiempo de ejecución de contar: 0.000019 segundos\n",
            "Resultado iterativo: 6\n",
            "Tiempo de ejecución de contarRecursivo: 0.000011 segundos\n",
            "Resultadorecursivo: 6\n"
          ]
        }
      ]
    },
    {
      "cell_type": "code",
      "source": [
        "import matplotlib.pyplot as plt\n",
        "\n",
        "#Acá tenía la intención de guardar los tiempos en un arreglo, pero no se me ocurrió como, dado que llamar a la función pcb.contar() sólo me devolvía el resultado, no el tiempo de ejecución\n",
        "\n",
        "tamaños = range(2, 10)\n",
        "tiempos_iterativo = []\n",
        "tiempos_recursivo = []\n",
        "\n",
        "for tamaño in tamaños:\n",
        "    pcb = PCB(tamaño, tamaño)\n"
      ],
      "metadata": {
        "colab": {
          "base_uri": "https://localhost:8080/"
        },
        "id": "TJmvuy0DbLoC",
        "outputId": "0a1e9e96-d823-4e91-b31b-067cf3dd6456"
      },
      "execution_count": null,
      "outputs": [
        {
          "output_type": "stream",
          "name": "stdout",
          "text": [
            "Tiempo de ejecución de __init__: 0.000003 segundos\n",
            "Tiempo de ejecución de __init__: 0.000002 segundos\n",
            "Tiempo de ejecución de __init__: 0.000002 segundos\n",
            "Tiempo de ejecución de __init__: 0.000001 segundos\n",
            "Tiempo de ejecución de __init__: 0.000000 segundos\n",
            "Tiempo de ejecución de __init__: 0.000001 segundos\n",
            "Tiempo de ejecución de __init__: 0.000001 segundos\n",
            "Tiempo de ejecución de __init__: 0.000001 segundos\n"
          ]
        }
      ]
    },
    {
      "cell_type": "markdown",
      "source": [
        "Se divide la función contarRecursivo() en dos, porque de lo contrario se mide el tiempo de cada recursión como se muestra a continuación\n"
      ],
      "metadata": {
        "id": "67rBPJPGaoSr"
      }
    },
    {
      "cell_type": "code",
      "source": [
        "import time\n",
        "\n",
        "\n",
        "def mide_tiempo(funcion):\n",
        "    def funcion_medida(*args, **kwargs):\n",
        "        inicio = time.time()\n",
        "        c = funcion(*args, **kwargs)\n",
        "        print(time.time() - inicio)\n",
        "        return c\n",
        "    return funcion_medida\n",
        "\n",
        "class PCB:\n",
        "    @mide_tiempo\n",
        "    def __init__(self, N, M):\n",
        "        self.N = N\n",
        "        self.M = M\n",
        "\n",
        "    @mide_tiempo\n",
        "    def contar(self):\n",
        "          celdas = [(self.N - 1, 0)]\n",
        "          count = 0\n",
        "\n",
        "          while len(celdas) > 0:\n",
        "              x, y = celdas.pop()\n",
        "              if x == 0 and y == self.M - 1:\n",
        "                  count += 1\n",
        "                  continue\n",
        "\n",
        "              if y + 1 < self.M:\n",
        "                  celdas.append((x, y + 1))\n",
        "\n",
        "              if x - 1 >= 0:\n",
        "                  celdas.append((x - 1, y))\n",
        "\n",
        "          return count\n",
        "\n",
        "    @mide_tiempo\n",
        "    def contarRecursivo(self, x=None, y=None):\n",
        "\n",
        "      if x is None or y is None:\n",
        "          x, y = self.N - 1, self.M - 1\n",
        "\n",
        "      if x == 0 or y == 0:\n",
        "          return 1\n",
        "\n",
        "      caminos_desde_arriba = self.contarRecursivo(x - 1, y)\n",
        "      caminos_desde_izquierda = self.contarRecursivo(x, y - 1)\n",
        "\n",
        "      return caminos_desde_arriba + caminos_desde_izquierda\n",
        "\n",
        "prueba = PCB(3, 3)\n",
        "print(\"Resultado iterativo:\", prueba.contar())\n",
        "print(\"Resultado recursivo:\", prueba.contarRecursivo())"
      ],
      "metadata": {
        "colab": {
          "base_uri": "https://localhost:8080/"
        },
        "id": "65-892mFaugD",
        "outputId": "2f94f4a9-3902-4800-9acc-7076e9c4968f"
      },
      "execution_count": null,
      "outputs": [
        {
          "output_type": "stream",
          "name": "stdout",
          "text": [
            "3.0994415283203125e-06\n",
            "1.9550323486328125e-05\n",
            "Resultado iterativo: 6\n",
            "7.152557373046875e-07\n",
            "1.1920928955078125e-06\n",
            "1.6689300537109375e-06\n",
            "0.0009016990661621094\n",
            "0.0018672943115234375\n",
            "1.430511474609375e-06\n",
            "1.6689300537109375e-06\n",
            "0.0011761188507080078\n",
            "1.6689300537109375e-06\n",
            "0.0017049312591552734\n",
            "0.004312992095947266\n",
            "Resultado recursivo: 6\n"
          ]
        }
      ]
    }
  ]
}