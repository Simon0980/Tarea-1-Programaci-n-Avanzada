{
  "nbformat": 4,
  "nbformat_minor": 0,
  "metadata": {
    "colab": {
      "provenance": []
    },
    "kernelspec": {
      "name": "python3",
      "display_name": "Python 3"
    },
    "language_info": {
      "name": "python"
    }
  },
  "cells": [
    {
      "cell_type": "markdown",
      "source": [
        "# 3 Caminos de una PCB"
      ],
      "metadata": {
        "id": "LQApLbN0jut8"
      }
    },
    {
      "cell_type": "markdown",
      "source": [
        "Solución que recorre todas las posibilidades, sin devolverse en filas o columnas"
      ],
      "metadata": {
        "id": "Rfc4PTS6qxgu"
      }
    },
    {
      "cell_type": "code",
      "execution_count": null,
      "metadata": {
        "id": "Ioz6cdt2w-wN",
        "colab": {
          "base_uri": "https://localhost:8080/"
        },
        "outputId": "e6f1f4ac-c11d-40e1-b170-359f56389236"
      },
      "outputs": [
        {
          "output_type": "execute_result",
          "data": {
            "text/plain": [
              "3"
            ]
          },
          "metadata": {},
          "execution_count": 13
        }
      ],
      "source": [
        "import numpy as np\n",
        "\n",
        "class PCB:\n",
        "    def __init__(self, N, M):\n",
        "        self.N = N\n",
        "        self.M = M\n",
        "\n",
        "    def contar(self):\n",
        "#Se comienza el recorrido desde la esquina inferior derecha\n",
        "        x_i = [self.N - 1]\n",
        "        y_i = [0]\n",
        "        caminos = 0\n",
        "\n",
        "        while len(x_i) > 0:\n",
        "            x = x_i.pop()\n",
        "            y = y_i.pop()\n",
        "\n",
        "            if x == 0 and y == self.M - 1:\n",
        "                caminos += 1\n",
        "                continue\n",
        "\n",
        "            if y + 1 < self.M:\n",
        "                x_i.append(x)\n",
        "                y_i.append(y+1)\n",
        "\n",
        "            if x - 1 >= 0:\n",
        "                x_i.append(x-1)\n",
        "                y_i.append(y)\n",
        "\n",
        "        return caminos\n",
        "\n",
        "prueba = PCB(3,2)\n",
        "prueba.contar()"
      ]
    },
    {
      "cell_type": "markdown",
      "source": [
        "Solución recursiva"
      ],
      "metadata": {
        "id": "jE8OQaUEq4mA"
      }
    },
    {
      "cell_type": "code",
      "source": [
        "class PCB:\n",
        "    def __init__(self, N, M):\n",
        "        self.N = N\n",
        "        self.M = M\n",
        "\n",
        "    def contarRecursivo(self, x=None, y=None):\n",
        "\n",
        "      if x is None or y is None:\n",
        "          x, y = self.N - 1, self.M - 1\n",
        "\n",
        "      if x == 0 or y == 0:\n",
        "          return 1\n",
        "\n",
        "      caminos_desde_arriba = self.contarRecursivo(x - 1, y)\n",
        "      caminos_desde_izquierda = self.contarRecursivo(x, y - 1)\n",
        "\n",
        "      return caminos_desde_arriba + caminos_desde_izquierda\n",
        "\n",
        "prueba = PCB(3, 3)\n",
        "print(prueba.contarRecursivo())\n",
        "\n",
        "#Si juntamo slas dos\n",
        "\n",
        "class PCB:\n",
        "    def __init__(self, N, M):\n",
        "        self.N = N\n",
        "        self.M = M\n",
        "    def contar(self):\n",
        "          celdas = [(self.N - 1, 0)]\n",
        "          count = 0\n",
        "\n",
        "          while len(celdas) > 0:\n",
        "              x, y = celdas.pop()\n",
        "              if x == 0 and y == self.M - 1:\n",
        "                  count += 1\n",
        "                  continue\n",
        "\n",
        "              if y + 1 < self.M:\n",
        "                  celdas.append((x, y + 1))\n",
        "\n",
        "              if x - 1 >= 0:\n",
        "                  celdas.append((x - 1, y))\n",
        "\n",
        "          return count\n",
        "\n",
        "    def contarRecursivo(self, x=None, y=None):\n",
        "\n",
        "      if x is None or y is None:\n",
        "          x, y = self.N - 1, self.M - 1\n",
        "\n",
        "      if x == 0 or y == 0:\n",
        "          return 1\n",
        "\n",
        "      caminos_desde_arriba = self.contarRecursivo(x - 1, y)\n",
        "      caminos_desde_izquierda = self.contarRecursivo(x, y - 1)\n",
        "\n",
        "      return caminos_desde_arriba + caminos_desde_izquierda\n",
        "\n",
        "prueba = PCB(3, 3)\n",
        "print(prueba.contarRecursivo())"
      ],
      "metadata": {
        "colab": {
          "base_uri": "https://localhost:8080/"
        },
        "id": "trYFvyTQkrhV",
        "outputId": "73d7f183-7f97-4208-c144-8c3c7fa2e510"
      },
      "execution_count": null,
      "outputs": [
        {
          "output_type": "stream",
          "name": "stdout",
          "text": [
            "6\n",
            "6\n"
          ]
        }
      ]
    },
    {
      "cell_type": "markdown",
      "source": [
        "Calculo del tiempo\n"
      ],
      "metadata": {
        "id": "BNxkNYPYWyDN"
      }
    },
    {
      "cell_type": "code",
      "source": [
        "import time\n",
        "\n",
        "def mide_tiempo(funcion):\n",
        "    def funcion_medida(*args, **kwargs):\n",
        "        inicio = time.time()\n",
        "        resultado = funcion(*args, **kwargs)\n",
        "        fin = time.time()\n",
        "        print(f\"{funcion.__name__}: {fin - inicio:.6f}\")\n",
        "        return resultado\n",
        "    return funcion_medida\n",
        "\n",
        "class PCB:\n",
        "    @mide_tiempo\n",
        "    def __init__(self, N, M):\n",
        "        self.N = N\n",
        "        self.M = M\n",
        "\n",
        "    @mide_tiempo\n",
        "    def contar(self):\n",
        "        celdas = [(self.N - 1, 0)]\n",
        "        count = 0\n",
        "\n",
        "        while len(celdas) > 0:\n",
        "            x, y = celdas.pop()\n",
        "            if x == 0 and y == self.M - 1:\n",
        "                count += 1\n",
        "                continue\n",
        "\n",
        "            if y + 1 < self.M:\n",
        "                celdas.append((x, y + 1))\n",
        "\n",
        "            if x - 1 >= 0:\n",
        "                celdas.append((x - 1, y))\n",
        "\n",
        "        return count\n",
        "\n",
        "#Ahora tocó dividir la función contar recursivo en dos, dado que de otra manera, se medía el tiempo de cada recursión e imprimía varios valores\n",
        "    @mide_tiempo\n",
        "    def contarRecursivo(self):\n",
        "        return self._contarRecursivo(self.N - 1, self.M - 1)\n",
        "\n",
        "    def _contarRecursivo(self, x, y):\n",
        "        if x == 0 or y == 0:\n",
        "            return 1\n",
        "\n",
        "        caminos_desde_arriba = self._contarRecursivo(x - 1, y)\n",
        "        caminos_desde_izquierda = self._contarRecursivo(x, y - 1)\n",
        "\n",
        "        return caminos_desde_arriba + caminos_desde_izquierda\n",
        "\n",
        "prueba = PCB(3, 3)\n",
        "print(\"Resultado contar:\", prueba.contar())\n",
        "print(\"Resultado contarRecursivo:\", prueba.contarRecursivo())\n"
      ],
      "metadata": {
        "colab": {
          "base_uri": "https://localhost:8080/"
        },
        "id": "-dwB2OEDaB19",
        "outputId": "b313e3e0-9db5-4aae-f355-c4a0a5164765"
      },
      "execution_count": null,
      "outputs": [
        {
          "output_type": "stream",
          "name": "stdout",
          "text": [
            "__init__: 0.000003\n",
            "contar: 0.000021\n",
            "Resultado contar: 6\n",
            "contarRecursivo: 0.000007\n",
            "Resultado contarRecursivo: 6\n"
          ]
        }
      ]
    },
    {
      "cell_type": "code",
      "source": [
        "import matplotlib.pyplot as plt\n",
        "\n",
        "#Acá tenía la intención de guardar los tiempos en un arreglo, pero no se me ocurrió como, dado que llamar a la función pcb.contar() sólo me devolvía el resultado, no el tiempo de ejecución\n",
        "#Así que se grafican guardando los resultados manualmente en un arreglo\n",
        "\n",
        "tamaños = range(2, 10)\n",
        "tiempos_iterativo = []\n",
        "tiempos_recursivo = []\n",
        "\n",
        "for tamaño in tamaños:\n",
        "    pcb = PCB(tamaño, tamaño)\n",
        "    pcb.contar()\n",
        "    pcb.contarRecursivo()\n",
        "\n"
      ],
      "metadata": {
        "colab": {
          "base_uri": "https://localhost:8080/"
        },
        "id": "TJmvuy0DbLoC",
        "outputId": "d27f6825-6c8d-4c67-b4ab-59efb0473c3b"
      },
      "execution_count": null,
      "outputs": [
        {
          "output_type": "stream",
          "name": "stdout",
          "text": [
            "__init__: 0.000003\n",
            "contar: 0.000013\n",
            "contarRecursivo: 0.000005\n",
            "__init__: 0.000002\n",
            "contar: 0.000017\n",
            "contarRecursivo: 0.000005\n",
            "__init__: 0.000001\n",
            "contar: 0.000043\n",
            "contarRecursivo: 0.000024\n",
            "__init__: 0.000001\n",
            "contar: 0.000194\n",
            "contarRecursivo: 0.000048\n",
            "__init__: 0.000003\n",
            "contar: 0.000524\n",
            "contarRecursivo: 0.000148\n",
            "__init__: 0.000002\n",
            "contar: 0.002000\n",
            "contarRecursivo: 0.000526\n",
            "__init__: 0.000002\n",
            "contar: 0.009247\n",
            "contarRecursivo: 0.001261\n",
            "__init__: 0.000002\n",
            "contar: 0.021750\n",
            "contarRecursivo: 0.004591\n"
          ]
        }
      ]
    },
    {
      "cell_type": "code",
      "source": [
        "import matplotlib.pyplot as plt\n",
        "\n",
        "matrices = list(range(2, 10))\n",
        "contar = [0.000013, 0.000017, 0.000043, 0.000194, 0.000524, 0.002000, 0.009247, 0.021750]\n",
        "contar_recursivo = [0.000005, 0.000005, 0.000024, 0.000048, 0.000148, 0.000526, 0.001261, 0.004591]\n",
        "\n",
        "# Graficar\n",
        "plt.figure(figsize=(10, 6))\n",
        "plt.plot(matrices, contar, label='contar', marker='o', color='b')\n",
        "plt.plot(matrices, contar_recursivo, label='contarRecursivo', marker='o', color='r')\n",
        "\n",
        "# Configurar etiquetas y título\n",
        "plt.xlabel('Tamaño de la matriz cuadrada')\n",
        "plt.ylabel('Tiempo')\n",
        "plt.title('Tiempo de Ejecución vs Tamaño de Matriz')\n",
        "plt.legend()\n",
        "plt.grid(True)\n",
        "\n",
        "# Mostrar gráfico\n",
        "plt.show()\n"
      ],
      "metadata": {
        "colab": {
          "base_uri": "https://localhost:8080/",
          "height": 565
        },
        "id": "zenlLuYKxCAR",
        "outputId": "0b3cb47f-d814-4e94-ab6e-8aa4aac45306"
      },
      "execution_count": null,
      "outputs": [
        {
          "output_type": "display_data",
          "data": {
            "text/plain": [
              "<Figure size 1000x600 with 1 Axes>"
            ],
            "image/png": "[encoded data removed]"
          },
          "metadata": {}
        }
      ]
    },
    {
      "cell_type": "markdown",
      "source": [
        "Se divide la función contarRecursivo() en dos, porque de lo contrario se mide el tiempo de cada recursión como se muestra a continuación\n"
      ],
      "metadata": {
        "id": "67rBPJPGaoSr"
      }
    },
    {
      "cell_type": "code",
      "source": [
        "import time\n",
        "\n",
        "\n",
        "def mide_tiempo(funcion):\n",
        "    def funcion_medida(*args, **kwargs):\n",
        "        inicio = time.time()\n",
        "        c = funcion(*args, **kwargs)\n",
        "        print(time.time() - inicio)\n",
        "        return c\n",
        "    return funcion_medida\n",
        "\n",
        "class PCB:\n",
        "    @mide_tiempo\n",
        "    def __init__(self, N, M):\n",
        "        self.N = N\n",
        "        self.M = M\n",
        "\n",
        "    @mide_tiempo\n",
        "    def contar(self):\n",
        "          celdas = [(self.N - 1, 0)]\n",
        "          count = 0\n",
        "\n",
        "          while len(celdas) > 0:\n",
        "              x, y = celdas.pop()\n",
        "              if x == 0 and y == self.M - 1:\n",
        "                  count += 1\n",
        "                  continue\n",
        "\n",
        "              if y + 1 < self.M:\n",
        "                  celdas.append((x, y + 1))\n",
        "\n",
        "              if x - 1 >= 0:\n",
        "                  celdas.append((x - 1, y))\n",
        "\n",
        "          return count\n",
        "\n",
        "    @mide_tiempo\n",
        "    def contarRecursivo(self, x=None, y=None):\n",
        "\n",
        "      if x is None or y is None:\n",
        "          x, y = self.N - 1, self.M - 1\n",
        "\n",
        "      if x == 0 or y == 0:\n",
        "          return 1\n",
        "\n",
        "      caminos_desde_arriba = self.contarRecursivo(x - 1, y)\n",
        "      caminos_desde_izquierda = self.contarRecursivo(x, y - 1)\n",
        "\n",
        "      return caminos_desde_arriba + caminos_desde_izquierda\n",
        "\n",
        "prueba = PCB(3, 3)\n",
        "print(\"Resultado contar:\", prueba.contar())\n",
        "print(\"Resultado contarRecursivo:\", prueba.contarRecursivo())"
      ],
      "metadata": {
        "colab": {
          "base_uri": "https://localhost:8080/"
        },
        "id": "65-892mFaugD",
        "outputId": "f50a3009-ec79-4513-dfd5-980a47da6784"
      },
      "execution_count": null,
      "outputs": [
        {
          "output_type": "stream",
          "name": "stdout",
          "text": [
            "1.9073486328125e-06\n",
            "1.8596649169921875e-05\n",
            "Resultado contar: 6\n",
            "9.5367431640625e-07\n",
            "1.430511474609375e-06\n",
            "9.5367431640625e-07\n",
            "9.179115295410156e-05\n",
            "0.0031282901763916016\n",
            "4.76837158203125e-07\n",
            "4.76837158203125e-07\n",
            "3.361701965332031e-05\n",
            "4.76837158203125e-07\n",
            "6.4849853515625e-05\n",
            "0.003229856491088867\n",
            "Resultado contarRecursivo: 6\n"
          ]
        }
      ]
    }
  ]
}